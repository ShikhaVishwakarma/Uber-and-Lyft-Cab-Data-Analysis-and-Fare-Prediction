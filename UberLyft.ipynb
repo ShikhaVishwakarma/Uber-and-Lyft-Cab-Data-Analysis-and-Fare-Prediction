{
  "nbformat": 4,
  "nbformat_minor": 0,
  "metadata": {
    "colab": {
      "name": "UberLyft.ipynb",
      "provenance": [],
      "authorship_tag": "ABX9TyMattBLDke37HvdYf1HYC8M",
      "include_colab_link": true
    },
    "kernelspec": {
      "name": "python3",
      "display_name": "Python 3"
    },
    "language_info": {
      "name": "python"
    }
  },
  "cells": [
    {
      "cell_type": "markdown",
      "metadata": {
        "id": "view-in-github",
        "colab_type": "text"
      },
      "source": [
        "<a href=\"https://colab.research.google.com/github/ShikhaVishwakarma/Uber-and-Lyft-Cab-Data-Analysis-and-Fare-Prediction/blob/main/UberLyft.ipynb\" target=\"_parent\"><img src=\"https://colab.research.google.com/assets/colab-badge.svg\" alt=\"Open In Colab\"/></a>"
      ]
    },
    {
      "cell_type": "code",
      "metadata": {
        "id": "n25_zxdb9uDm"
      },
      "source": [
        "import pandas as pd\n",
        "from sklearn.linear_model import LogisticRegression,LinearRegression\n",
        "import pandas as pd\n",
        "import numpy as np\n",
        "import matplotlib.pyplot as plt\n",
        "import seaborn as sns\n",
        "import itertools\n",
        "import gc\n",
        "import os\n",
        "import sys\n",
        "%matplotlib inline"
      ],
      "execution_count": 1,
      "outputs": []
    },
    {
      "cell_type": "code",
      "metadata": {
        "id": "5npRCzCC_GE0"
      },
      "source": [
        "cab_data = pd.read_csv(\"/content/cab_rides.csv\")\n",
        "#cab_data=reduce_mem_usage(cab_data)\n",
        "weather_data = pd.read_csv(\"/content/weather.csv\")\n",
        "#weather_data=reduce_mem_usage(weather_data)"
      ],
      "execution_count": 3,
      "outputs": []
    },
    {
      "cell_type": "code",
      "metadata": {
        "colab": {
          "base_uri": "https://localhost:8080/",
          "height": 585
        },
        "id": "4sMzSSPx_Tei",
        "outputId": "164fe227-476c-47a9-d7e2-ab3ed375f2eb"
      },
      "source": [
        "cab_data"
      ],
      "execution_count": 4,
      "outputs": [
        {
          "output_type": "execute_result",
          "data": {
            "text/html": [
              "<div>\n",
              "<style scoped>\n",
              "    .dataframe tbody tr th:only-of-type {\n",
              "        vertical-align: middle;\n",
              "    }\n",
              "\n",
              "    .dataframe tbody tr th {\n",
              "        vertical-align: top;\n",
              "    }\n",
              "\n",
              "    .dataframe thead th {\n",
              "        text-align: right;\n",
              "    }\n",
              "</style>\n",
              "<table border=\"1\" class=\"dataframe\">\n",
              "  <thead>\n",
              "    <tr style=\"text-align: right;\">\n",
              "      <th></th>\n",
              "      <th>distance</th>\n",
              "      <th>cab_type</th>\n",
              "      <th>time_stamp</th>\n",
              "      <th>destination</th>\n",
              "      <th>source</th>\n",
              "      <th>price</th>\n",
              "      <th>surge_multiplier</th>\n",
              "      <th>id</th>\n",
              "      <th>product_id</th>\n",
              "      <th>name</th>\n",
              "    </tr>\n",
              "  </thead>\n",
              "  <tbody>\n",
              "    <tr>\n",
              "      <th>0</th>\n",
              "      <td>0.44</td>\n",
              "      <td>Lyft</td>\n",
              "      <td>1.544950e+12</td>\n",
              "      <td>North Station</td>\n",
              "      <td>Haymarket Square</td>\n",
              "      <td>5.0</td>\n",
              "      <td>1.0</td>\n",
              "      <td>424553bb-7174-41ea-aeb4-fe06d4f4b9d7</td>\n",
              "      <td>lyft_line</td>\n",
              "      <td>Shared</td>\n",
              "    </tr>\n",
              "    <tr>\n",
              "      <th>1</th>\n",
              "      <td>0.44</td>\n",
              "      <td>Lyft</td>\n",
              "      <td>1.543280e+12</td>\n",
              "      <td>North Station</td>\n",
              "      <td>Haymarket Square</td>\n",
              "      <td>11.0</td>\n",
              "      <td>1.0</td>\n",
              "      <td>4bd23055-6827-41c6-b23b-3c491f24e74d</td>\n",
              "      <td>lyft_premier</td>\n",
              "      <td>Lux</td>\n",
              "    </tr>\n",
              "    <tr>\n",
              "      <th>2</th>\n",
              "      <td>0.44</td>\n",
              "      <td>Lyft</td>\n",
              "      <td>1.543370e+12</td>\n",
              "      <td>North Station</td>\n",
              "      <td>Haymarket Square</td>\n",
              "      <td>7.0</td>\n",
              "      <td>1.0</td>\n",
              "      <td>981a3613-77af-4620-a42a-0c0866077d1e</td>\n",
              "      <td>lyft</td>\n",
              "      <td>Lyft</td>\n",
              "    </tr>\n",
              "    <tr>\n",
              "      <th>3</th>\n",
              "      <td>0.44</td>\n",
              "      <td>Lyft</td>\n",
              "      <td>1.543550e+12</td>\n",
              "      <td>North Station</td>\n",
              "      <td>Haymarket Square</td>\n",
              "      <td>26.0</td>\n",
              "      <td>1.0</td>\n",
              "      <td>c2d88af2-d278-4bfd-a8d0-29ca77cc5512</td>\n",
              "      <td>lyft_luxsuv</td>\n",
              "      <td>Lux Black XL</td>\n",
              "    </tr>\n",
              "    <tr>\n",
              "      <th>4</th>\n",
              "      <td>0.44</td>\n",
              "      <td>Lyft</td>\n",
              "      <td>1.543460e+12</td>\n",
              "      <td>North Station</td>\n",
              "      <td>Haymarket Square</td>\n",
              "      <td>9.0</td>\n",
              "      <td>1.0</td>\n",
              "      <td>e0126e1f-8ca9-4f2e-82b3-50505a09db9a</td>\n",
              "      <td>lyft_plus</td>\n",
              "      <td>Lyft XL</td>\n",
              "    </tr>\n",
              "    <tr>\n",
              "      <th>...</th>\n",
              "      <td>...</td>\n",
              "      <td>...</td>\n",
              "      <td>...</td>\n",
              "      <td>...</td>\n",
              "      <td>...</td>\n",
              "      <td>...</td>\n",
              "      <td>...</td>\n",
              "      <td>...</td>\n",
              "      <td>...</td>\n",
              "      <td>...</td>\n",
              "    </tr>\n",
              "    <tr>\n",
              "      <th>91612</th>\n",
              "      <td>0.61</td>\n",
              "      <td>Uber</td>\n",
              "      <td>1.543850e+12</td>\n",
              "      <td>West End</td>\n",
              "      <td>Haymarket Square</td>\n",
              "      <td>15.5</td>\n",
              "      <td>1.0</td>\n",
              "      <td>d238e713-2e84-43c0-8e22-3a9f10a69c7b</td>\n",
              "      <td>6c84fd89-3f11-4782-9b50-97c468b19529</td>\n",
              "      <td>Black</td>\n",
              "    </tr>\n",
              "    <tr>\n",
              "      <th>91613</th>\n",
              "      <td>0.99</td>\n",
              "      <td>Uber</td>\n",
              "      <td>1.543230e+12</td>\n",
              "      <td>Financial District</td>\n",
              "      <td>Haymarket Square</td>\n",
              "      <td>NaN</td>\n",
              "      <td>1.0</td>\n",
              "      <td>1f4cfd45-0a20-456b-8c15-8d5215628e49</td>\n",
              "      <td>8cf7e821-f0d3-49c6-8eba-e679c0ebcf6a</td>\n",
              "      <td>Taxi</td>\n",
              "    </tr>\n",
              "    <tr>\n",
              "      <th>91614</th>\n",
              "      <td>0.99</td>\n",
              "      <td>Uber</td>\n",
              "      <td>1.543480e+12</td>\n",
              "      <td>Financial District</td>\n",
              "      <td>Haymarket Square</td>\n",
              "      <td>7.0</td>\n",
              "      <td>1.0</td>\n",
              "      <td>280a3fa1-b527-442c-a7f1-a497578d2683</td>\n",
              "      <td>9a0e7b09-b92b-4c41-9779-2ad22b4d779d</td>\n",
              "      <td>WAV</td>\n",
              "    </tr>\n",
              "    <tr>\n",
              "      <th>91615</th>\n",
              "      <td>0.99</td>\n",
              "      <td>Uber</td>\n",
              "      <td>1.544680e+12</td>\n",
              "      <td>Financial District</td>\n",
              "      <td>Haymarket Square</td>\n",
              "      <td>11.5</td>\n",
              "      <td>1.0</td>\n",
              "      <td>62db8839-dedd-4433-a6c8-52c1b15bc59d</td>\n",
              "      <td>6f72dfc5-27f1-42e8-84db-ccc7a75f6969</td>\n",
              "      <td>UberXL</td>\n",
              "    </tr>\n",
              "    <tr>\n",
              "      <th>91616</th>\n",
              "      <td>0.99</td>\n",
              "      <td>Uber</td>\n",
              "      <td>1.543750e+12</td>\n",
              "      <td>Financial District</td>\n",
              "      <td>Haymarket Square</td>\n",
              "      <td>26.5</td>\n",
              "      <td>1.0</td>\n",
              "      <td>a8ebe5b4-154</td>\n",
              "      <td>NaN</td>\n",
              "      <td>NaN</td>\n",
              "    </tr>\n",
              "  </tbody>\n",
              "</table>\n",
              "<p>91617 rows × 10 columns</p>\n",
              "</div>"
            ],
            "text/plain": [
              "       distance cab_type  ...                            product_id          name\n",
              "0          0.44     Lyft  ...                             lyft_line        Shared\n",
              "1          0.44     Lyft  ...                          lyft_premier           Lux\n",
              "2          0.44     Lyft  ...                                  lyft          Lyft\n",
              "3          0.44     Lyft  ...                           lyft_luxsuv  Lux Black XL\n",
              "4          0.44     Lyft  ...                             lyft_plus       Lyft XL\n",
              "...         ...      ...  ...                                   ...           ...\n",
              "91612      0.61     Uber  ...  6c84fd89-3f11-4782-9b50-97c468b19529         Black\n",
              "91613      0.99     Uber  ...  8cf7e821-f0d3-49c6-8eba-e679c0ebcf6a          Taxi\n",
              "91614      0.99     Uber  ...  9a0e7b09-b92b-4c41-9779-2ad22b4d779d           WAV\n",
              "91615      0.99     Uber  ...  6f72dfc5-27f1-42e8-84db-ccc7a75f6969        UberXL\n",
              "91616      0.99     Uber  ...                                   NaN           NaN\n",
              "\n",
              "[91617 rows x 10 columns]"
            ]
          },
          "metadata": {},
          "execution_count": 4
        }
      ]
    },
    {
      "cell_type": "code",
      "metadata": {
        "colab": {
          "base_uri": "https://localhost:8080/",
          "height": 417
        },
        "id": "KHhXV1cI_XHB",
        "outputId": "fce08699-a340-4d57-cbce-3ca24dff7ec4"
      },
      "source": [
        "weather_data"
      ],
      "execution_count": 5,
      "outputs": [
        {
          "output_type": "execute_result",
          "data": {
            "text/html": [
              "<div>\n",
              "<style scoped>\n",
              "    .dataframe tbody tr th:only-of-type {\n",
              "        vertical-align: middle;\n",
              "    }\n",
              "\n",
              "    .dataframe tbody tr th {\n",
              "        vertical-align: top;\n",
              "    }\n",
              "\n",
              "    .dataframe thead th {\n",
              "        text-align: right;\n",
              "    }\n",
              "</style>\n",
              "<table border=\"1\" class=\"dataframe\">\n",
              "  <thead>\n",
              "    <tr style=\"text-align: right;\">\n",
              "      <th></th>\n",
              "      <th>temp</th>\n",
              "      <th>location</th>\n",
              "      <th>clouds</th>\n",
              "      <th>pressure</th>\n",
              "      <th>rain</th>\n",
              "      <th>time_stamp</th>\n",
              "      <th>humidity</th>\n",
              "      <th>wind</th>\n",
              "    </tr>\n",
              "  </thead>\n",
              "  <tbody>\n",
              "    <tr>\n",
              "      <th>0</th>\n",
              "      <td>42.42</td>\n",
              "      <td>Back Bay</td>\n",
              "      <td>1.00</td>\n",
              "      <td>1012.14</td>\n",
              "      <td>0.1228</td>\n",
              "      <td>1545003901</td>\n",
              "      <td>0.77</td>\n",
              "      <td>11.25</td>\n",
              "    </tr>\n",
              "    <tr>\n",
              "      <th>1</th>\n",
              "      <td>42.43</td>\n",
              "      <td>Beacon Hill</td>\n",
              "      <td>1.00</td>\n",
              "      <td>1012.15</td>\n",
              "      <td>0.1846</td>\n",
              "      <td>1545003901</td>\n",
              "      <td>0.76</td>\n",
              "      <td>11.32</td>\n",
              "    </tr>\n",
              "    <tr>\n",
              "      <th>2</th>\n",
              "      <td>42.50</td>\n",
              "      <td>Boston University</td>\n",
              "      <td>1.00</td>\n",
              "      <td>1012.15</td>\n",
              "      <td>0.1089</td>\n",
              "      <td>1545003901</td>\n",
              "      <td>0.76</td>\n",
              "      <td>11.07</td>\n",
              "    </tr>\n",
              "    <tr>\n",
              "      <th>3</th>\n",
              "      <td>42.11</td>\n",
              "      <td>Fenway</td>\n",
              "      <td>1.00</td>\n",
              "      <td>1012.13</td>\n",
              "      <td>0.0969</td>\n",
              "      <td>1545003901</td>\n",
              "      <td>0.77</td>\n",
              "      <td>11.09</td>\n",
              "    </tr>\n",
              "    <tr>\n",
              "      <th>4</th>\n",
              "      <td>43.13</td>\n",
              "      <td>Financial District</td>\n",
              "      <td>1.00</td>\n",
              "      <td>1012.14</td>\n",
              "      <td>0.1786</td>\n",
              "      <td>1545003901</td>\n",
              "      <td>0.75</td>\n",
              "      <td>11.49</td>\n",
              "    </tr>\n",
              "    <tr>\n",
              "      <th>...</th>\n",
              "      <td>...</td>\n",
              "      <td>...</td>\n",
              "      <td>...</td>\n",
              "      <td>...</td>\n",
              "      <td>...</td>\n",
              "      <td>...</td>\n",
              "      <td>...</td>\n",
              "      <td>...</td>\n",
              "    </tr>\n",
              "    <tr>\n",
              "      <th>6271</th>\n",
              "      <td>44.72</td>\n",
              "      <td>North Station</td>\n",
              "      <td>0.89</td>\n",
              "      <td>1000.69</td>\n",
              "      <td>NaN</td>\n",
              "      <td>1543819974</td>\n",
              "      <td>0.96</td>\n",
              "      <td>1.52</td>\n",
              "    </tr>\n",
              "    <tr>\n",
              "      <th>6272</th>\n",
              "      <td>44.85</td>\n",
              "      <td>Northeastern University</td>\n",
              "      <td>0.88</td>\n",
              "      <td>1000.71</td>\n",
              "      <td>NaN</td>\n",
              "      <td>1543819974</td>\n",
              "      <td>0.96</td>\n",
              "      <td>1.54</td>\n",
              "    </tr>\n",
              "    <tr>\n",
              "      <th>6273</th>\n",
              "      <td>44.82</td>\n",
              "      <td>South Station</td>\n",
              "      <td>0.89</td>\n",
              "      <td>1000.70</td>\n",
              "      <td>NaN</td>\n",
              "      <td>1543819974</td>\n",
              "      <td>0.96</td>\n",
              "      <td>1.54</td>\n",
              "    </tr>\n",
              "    <tr>\n",
              "      <th>6274</th>\n",
              "      <td>44.78</td>\n",
              "      <td>Theatre District</td>\n",
              "      <td>0.89</td>\n",
              "      <td>1000.70</td>\n",
              "      <td>NaN</td>\n",
              "      <td>1543819974</td>\n",
              "      <td>0.96</td>\n",
              "      <td>1.54</td>\n",
              "    </tr>\n",
              "    <tr>\n",
              "      <th>6275</th>\n",
              "      <td>44.69</td>\n",
              "      <td>West End</td>\n",
              "      <td>0.89</td>\n",
              "      <td>1000.70</td>\n",
              "      <td>NaN</td>\n",
              "      <td>1543819974</td>\n",
              "      <td>0.96</td>\n",
              "      <td>1.52</td>\n",
              "    </tr>\n",
              "  </tbody>\n",
              "</table>\n",
              "<p>6276 rows × 8 columns</p>\n",
              "</div>"
            ],
            "text/plain": [
              "       temp                 location  clouds  ...  time_stamp  humidity   wind\n",
              "0     42.42                 Back Bay    1.00  ...  1545003901      0.77  11.25\n",
              "1     42.43              Beacon Hill    1.00  ...  1545003901      0.76  11.32\n",
              "2     42.50        Boston University    1.00  ...  1545003901      0.76  11.07\n",
              "3     42.11                   Fenway    1.00  ...  1545003901      0.77  11.09\n",
              "4     43.13       Financial District    1.00  ...  1545003901      0.75  11.49\n",
              "...     ...                      ...     ...  ...         ...       ...    ...\n",
              "6271  44.72            North Station    0.89  ...  1543819974      0.96   1.52\n",
              "6272  44.85  Northeastern University    0.88  ...  1543819974      0.96   1.54\n",
              "6273  44.82            South Station    0.89  ...  1543819974      0.96   1.54\n",
              "6274  44.78         Theatre District    0.89  ...  1543819974      0.96   1.54\n",
              "6275  44.69                 West End    0.89  ...  1543819974      0.96   1.52\n",
              "\n",
              "[6276 rows x 8 columns]"
            ]
          },
          "metadata": {},
          "execution_count": 5
        }
      ]
    },
    {
      "cell_type": "code",
      "metadata": {
        "id": "dWfYFtKK_a__"
      },
      "source": [
        "import datetime\n",
        "cab_data['datetime']= pd.to_datetime(cab_data['time_stamp'])\n",
        "cab_data\n",
        "weather_data['date_time'] = pd.to_datetime(weather_data['time_stamp'])"
      ],
      "execution_count": 6,
      "outputs": []
    },
    {
      "cell_type": "code",
      "metadata": {
        "colab": {
          "base_uri": "https://localhost:8080/"
        },
        "id": "yRh-51Js_juZ",
        "outputId": "16c87b0a-63a5-496e-89e3-9230329a6c7f"
      },
      "source": [
        "cab_data.columns, weather_data.columns\n"
      ],
      "execution_count": 7,
      "outputs": [
        {
          "output_type": "execute_result",
          "data": {
            "text/plain": [
              "(Index(['distance', 'cab_type', 'time_stamp', 'destination', 'source', 'price',\n",
              "        'surge_multiplier', 'id', 'product_id', 'name', 'datetime'],\n",
              "       dtype='object'),\n",
              " Index(['temp', 'location', 'clouds', 'pressure', 'rain', 'time_stamp',\n",
              "        'humidity', 'wind', 'date_time'],\n",
              "       dtype='object'))"
            ]
          },
          "metadata": {},
          "execution_count": 7
        }
      ]
    },
    {
      "cell_type": "code",
      "metadata": {
        "colab": {
          "base_uri": "https://localhost:8080/"
        },
        "id": "jbL7qAxwAOGQ",
        "outputId": "5eaca070-6235-48e5-c94b-86a9effb47e7"
      },
      "source": [
        "cab_data.shape, weather_data.shape"
      ],
      "execution_count": 8,
      "outputs": [
        {
          "output_type": "execute_result",
          "data": {
            "text/plain": [
              "((91617, 11), (6276, 9))"
            ]
          },
          "metadata": {},
          "execution_count": 8
        }
      ]
    },
    {
      "cell_type": "code",
      "metadata": {
        "colab": {
          "base_uri": "https://localhost:8080/",
          "height": 295
        },
        "id": "tnHyIxXSAazU",
        "outputId": "295d02da-5fd5-4aba-e71d-627b53a1f08b"
      },
      "source": [
        "cab_data.describe()"
      ],
      "execution_count": 9,
      "outputs": [
        {
          "output_type": "execute_result",
          "data": {
            "text/html": [
              "<div>\n",
              "<style scoped>\n",
              "    .dataframe tbody tr th:only-of-type {\n",
              "        vertical-align: middle;\n",
              "    }\n",
              "\n",
              "    .dataframe tbody tr th {\n",
              "        vertical-align: top;\n",
              "    }\n",
              "\n",
              "    .dataframe thead th {\n",
              "        text-align: right;\n",
              "    }\n",
              "</style>\n",
              "<table border=\"1\" class=\"dataframe\">\n",
              "  <thead>\n",
              "    <tr style=\"text-align: right;\">\n",
              "      <th></th>\n",
              "      <th>distance</th>\n",
              "      <th>time_stamp</th>\n",
              "      <th>price</th>\n",
              "      <th>surge_multiplier</th>\n",
              "    </tr>\n",
              "  </thead>\n",
              "  <tbody>\n",
              "    <tr>\n",
              "      <th>count</th>\n",
              "      <td>91617.000000</td>\n",
              "      <td>9.161700e+04</td>\n",
              "      <td>84403.000000</td>\n",
              "      <td>91617.000000</td>\n",
              "    </tr>\n",
              "    <tr>\n",
              "      <th>mean</th>\n",
              "      <td>2.196456</td>\n",
              "      <td>1.544034e+12</td>\n",
              "      <td>16.585998</td>\n",
              "      <td>1.015202</td>\n",
              "    </tr>\n",
              "    <tr>\n",
              "      <th>std</th>\n",
              "      <td>1.140015</td>\n",
              "      <td>6.880398e+08</td>\n",
              "      <td>9.358621</td>\n",
              "      <td>0.095469</td>\n",
              "    </tr>\n",
              "    <tr>\n",
              "      <th>min</th>\n",
              "      <td>0.020000</td>\n",
              "      <td>1.543200e+12</td>\n",
              "      <td>2.500000</td>\n",
              "      <td>1.000000</td>\n",
              "    </tr>\n",
              "    <tr>\n",
              "      <th>25%</th>\n",
              "      <td>1.300000</td>\n",
              "      <td>1.543440e+12</td>\n",
              "      <td>9.000000</td>\n",
              "      <td>1.000000</td>\n",
              "    </tr>\n",
              "    <tr>\n",
              "      <th>50%</th>\n",
              "      <td>2.170000</td>\n",
              "      <td>1.543720e+12</td>\n",
              "      <td>13.500000</td>\n",
              "      <td>1.000000</td>\n",
              "    </tr>\n",
              "    <tr>\n",
              "      <th>75%</th>\n",
              "      <td>2.940000</td>\n",
              "      <td>1.544820e+12</td>\n",
              "      <td>22.500000</td>\n",
              "      <td>1.000000</td>\n",
              "    </tr>\n",
              "    <tr>\n",
              "      <th>max</th>\n",
              "      <td>7.500000</td>\n",
              "      <td>1.545160e+12</td>\n",
              "      <td>92.000000</td>\n",
              "      <td>3.000000</td>\n",
              "    </tr>\n",
              "  </tbody>\n",
              "</table>\n",
              "</div>"
            ],
            "text/plain": [
              "           distance    time_stamp         price  surge_multiplier\n",
              "count  91617.000000  9.161700e+04  84403.000000      91617.000000\n",
              "mean       2.196456  1.544034e+12     16.585998          1.015202\n",
              "std        1.140015  6.880398e+08      9.358621          0.095469\n",
              "min        0.020000  1.543200e+12      2.500000          1.000000\n",
              "25%        1.300000  1.543440e+12      9.000000          1.000000\n",
              "50%        2.170000  1.543720e+12     13.500000          1.000000\n",
              "75%        2.940000  1.544820e+12     22.500000          1.000000\n",
              "max        7.500000  1.545160e+12     92.000000          3.000000"
            ]
          },
          "metadata": {},
          "execution_count": 9
        }
      ]
    },
    {
      "cell_type": "code",
      "metadata": {
        "colab": {
          "base_uri": "https://localhost:8080/",
          "height": 295
        },
        "id": "KqI2zObDAcVr",
        "outputId": "cd62aa8d-f2a2-4ae2-83ab-ff67b2b2ca67"
      },
      "source": [
        "weather_data.describe()"
      ],
      "execution_count": 10,
      "outputs": [
        {
          "output_type": "execute_result",
          "data": {
            "text/html": [
              "<div>\n",
              "<style scoped>\n",
              "    .dataframe tbody tr th:only-of-type {\n",
              "        vertical-align: middle;\n",
              "    }\n",
              "\n",
              "    .dataframe tbody tr th {\n",
              "        vertical-align: top;\n",
              "    }\n",
              "\n",
              "    .dataframe thead th {\n",
              "        text-align: right;\n",
              "    }\n",
              "</style>\n",
              "<table border=\"1\" class=\"dataframe\">\n",
              "  <thead>\n",
              "    <tr style=\"text-align: right;\">\n",
              "      <th></th>\n",
              "      <th>temp</th>\n",
              "      <th>clouds</th>\n",
              "      <th>pressure</th>\n",
              "      <th>rain</th>\n",
              "      <th>time_stamp</th>\n",
              "      <th>humidity</th>\n",
              "      <th>wind</th>\n",
              "    </tr>\n",
              "  </thead>\n",
              "  <tbody>\n",
              "    <tr>\n",
              "      <th>count</th>\n",
              "      <td>6276.000000</td>\n",
              "      <td>6276.000000</td>\n",
              "      <td>6276.000000</td>\n",
              "      <td>894.000000</td>\n",
              "      <td>6.276000e+03</td>\n",
              "      <td>6276.000000</td>\n",
              "      <td>6276.000000</td>\n",
              "    </tr>\n",
              "    <tr>\n",
              "      <th>mean</th>\n",
              "      <td>39.090475</td>\n",
              "      <td>0.677777</td>\n",
              "      <td>1008.445209</td>\n",
              "      <td>0.057652</td>\n",
              "      <td>1.543857e+09</td>\n",
              "      <td>0.763985</td>\n",
              "      <td>6.802812</td>\n",
              "    </tr>\n",
              "    <tr>\n",
              "      <th>std</th>\n",
              "      <td>6.022055</td>\n",
              "      <td>0.314284</td>\n",
              "      <td>12.870775</td>\n",
              "      <td>0.100758</td>\n",
              "      <td>6.659340e+05</td>\n",
              "      <td>0.127340</td>\n",
              "      <td>3.633466</td>\n",
              "    </tr>\n",
              "    <tr>\n",
              "      <th>min</th>\n",
              "      <td>19.620000</td>\n",
              "      <td>0.000000</td>\n",
              "      <td>988.250000</td>\n",
              "      <td>0.000200</td>\n",
              "      <td>1.543204e+09</td>\n",
              "      <td>0.450000</td>\n",
              "      <td>0.290000</td>\n",
              "    </tr>\n",
              "    <tr>\n",
              "      <th>25%</th>\n",
              "      <td>36.077500</td>\n",
              "      <td>0.440000</td>\n",
              "      <td>997.747500</td>\n",
              "      <td>0.004900</td>\n",
              "      <td>1.543387e+09</td>\n",
              "      <td>0.670000</td>\n",
              "      <td>3.517500</td>\n",
              "    </tr>\n",
              "    <tr>\n",
              "      <th>50%</th>\n",
              "      <td>40.130000</td>\n",
              "      <td>0.780000</td>\n",
              "      <td>1007.660000</td>\n",
              "      <td>0.014850</td>\n",
              "      <td>1.543514e+09</td>\n",
              "      <td>0.760000</td>\n",
              "      <td>6.570000</td>\n",
              "    </tr>\n",
              "    <tr>\n",
              "      <th>75%</th>\n",
              "      <td>42.832500</td>\n",
              "      <td>0.970000</td>\n",
              "      <td>1018.480000</td>\n",
              "      <td>0.060925</td>\n",
              "      <td>1.544691e+09</td>\n",
              "      <td>0.890000</td>\n",
              "      <td>9.920000</td>\n",
              "    </tr>\n",
              "    <tr>\n",
              "      <th>max</th>\n",
              "      <td>55.410000</td>\n",
              "      <td>1.000000</td>\n",
              "      <td>1035.120000</td>\n",
              "      <td>0.780700</td>\n",
              "      <td>1.545159e+09</td>\n",
              "      <td>0.990000</td>\n",
              "      <td>18.180000</td>\n",
              "    </tr>\n",
              "  </tbody>\n",
              "</table>\n",
              "</div>"
            ],
            "text/plain": [
              "              temp       clouds  ...     humidity         wind\n",
              "count  6276.000000  6276.000000  ...  6276.000000  6276.000000\n",
              "mean     39.090475     0.677777  ...     0.763985     6.802812\n",
              "std       6.022055     0.314284  ...     0.127340     3.633466\n",
              "min      19.620000     0.000000  ...     0.450000     0.290000\n",
              "25%      36.077500     0.440000  ...     0.670000     3.517500\n",
              "50%      40.130000     0.780000  ...     0.760000     6.570000\n",
              "75%      42.832500     0.970000  ...     0.890000     9.920000\n",
              "max      55.410000     1.000000  ...     0.990000    18.180000\n",
              "\n",
              "[8 rows x 7 columns]"
            ]
          },
          "metadata": {},
          "execution_count": 10
        }
      ]
    },
    {
      "cell_type": "code",
      "metadata": {
        "id": "8tdti_XrAh1q"
      },
      "source": [
        "data=pd.concat([cab_data,weather_data])"
      ],
      "execution_count": 12,
      "outputs": []
    },
    {
      "cell_type": "code",
      "metadata": {
        "id": "zHVkcBNNApp7"
      },
      "source": [
        "data['day']=a.date_time.dt.day\n",
        "data['hour']=a.date_time.dt.hour"
      ],
      "execution_count": 13,
      "outputs": []
    },
    {
      "cell_type": "code",
      "metadata": {
        "colab": {
          "base_uri": "https://localhost:8080/"
        },
        "id": "PbKhm_zRAykm",
        "outputId": "a80a42f0-2064-4574-a234-8e38fea8a2e7"
      },
      "source": [
        "data.isnull().sum"
      ],
      "execution_count": 14,
      "outputs": [
        {
          "output_type": "execute_result",
          "data": {
            "text/plain": [
              "<bound method DataFrame.sum of       distance  cab_type  time_stamp  ...  date_time    day   hour\n",
              "0        False     False       False  ...       True   True   True\n",
              "1        False     False       False  ...       True   True   True\n",
              "2        False     False       False  ...       True   True   True\n",
              "3        False     False       False  ...       True   True   True\n",
              "4        False     False       False  ...       True   True   True\n",
              "...        ...       ...         ...  ...        ...    ...    ...\n",
              "6271      True      True       False  ...      False  False  False\n",
              "6272      True      True       False  ...      False  False  False\n",
              "6273      True      True       False  ...      False  False  False\n",
              "6274      True      True       False  ...      False  False  False\n",
              "6275      True      True       False  ...      False  False  False\n",
              "\n",
              "[97893 rows x 21 columns]>"
            ]
          },
          "metadata": {},
          "execution_count": 14
        }
      ]
    },
    {
      "cell_type": "code",
      "metadata": {
        "id": "_OAxT125A75D"
      },
      "source": [
        "data.fillna(0,inplace=True)\n"
      ],
      "execution_count": 15,
      "outputs": []
    },
    {
      "cell_type": "code",
      "metadata": {
        "colab": {
          "base_uri": "https://localhost:8080/"
        },
        "id": "5G893ByuBA8_",
        "outputId": "afaf9fb1-1360-4ece-9dcb-8eccf32c96ef"
      },
      "source": [
        "data.columns"
      ],
      "execution_count": 16,
      "outputs": [
        {
          "output_type": "execute_result",
          "data": {
            "text/plain": [
              "Index(['distance', 'cab_type', 'time_stamp', 'destination', 'source', 'price',\n",
              "       'surge_multiplier', 'id', 'product_id', 'name', 'datetime', 'temp',\n",
              "       'location', 'clouds', 'pressure', 'rain', 'humidity', 'wind',\n",
              "       'date_time', 'day', 'hour'],\n",
              "      dtype='object')"
            ]
          },
          "metadata": {},
          "execution_count": 16
        }
      ]
    },
    {
      "cell_type": "code",
      "metadata": {
        "colab": {
          "base_uri": "https://localhost:8080/",
          "height": 192
        },
        "id": "YMS0kKmiBF1w",
        "outputId": "6cb0b5de-cb76-4b02-f78b-770ee271eb7f"
      },
      "source": [
        "data.groupby('cab_type').count()"
      ],
      "execution_count": 17,
      "outputs": [
        {
          "output_type": "execute_result",
          "data": {
            "text/html": [
              "<div>\n",
              "<style scoped>\n",
              "    .dataframe tbody tr th:only-of-type {\n",
              "        vertical-align: middle;\n",
              "    }\n",
              "\n",
              "    .dataframe tbody tr th {\n",
              "        vertical-align: top;\n",
              "    }\n",
              "\n",
              "    .dataframe thead th {\n",
              "        text-align: right;\n",
              "    }\n",
              "</style>\n",
              "<table border=\"1\" class=\"dataframe\">\n",
              "  <thead>\n",
              "    <tr style=\"text-align: right;\">\n",
              "      <th></th>\n",
              "      <th>distance</th>\n",
              "      <th>time_stamp</th>\n",
              "      <th>destination</th>\n",
              "      <th>source</th>\n",
              "      <th>price</th>\n",
              "      <th>surge_multiplier</th>\n",
              "      <th>id</th>\n",
              "      <th>product_id</th>\n",
              "      <th>name</th>\n",
              "      <th>datetime</th>\n",
              "      <th>temp</th>\n",
              "      <th>location</th>\n",
              "      <th>clouds</th>\n",
              "      <th>pressure</th>\n",
              "      <th>rain</th>\n",
              "      <th>humidity</th>\n",
              "      <th>wind</th>\n",
              "      <th>date_time</th>\n",
              "      <th>day</th>\n",
              "      <th>hour</th>\n",
              "    </tr>\n",
              "    <tr>\n",
              "      <th>cab_type</th>\n",
              "      <th></th>\n",
              "      <th></th>\n",
              "      <th></th>\n",
              "      <th></th>\n",
              "      <th></th>\n",
              "      <th></th>\n",
              "      <th></th>\n",
              "      <th></th>\n",
              "      <th></th>\n",
              "      <th></th>\n",
              "      <th></th>\n",
              "      <th></th>\n",
              "      <th></th>\n",
              "      <th></th>\n",
              "      <th></th>\n",
              "      <th></th>\n",
              "      <th></th>\n",
              "      <th></th>\n",
              "      <th></th>\n",
              "      <th></th>\n",
              "    </tr>\n",
              "  </thead>\n",
              "  <tbody>\n",
              "    <tr>\n",
              "      <th>0</th>\n",
              "      <td>6276</td>\n",
              "      <td>6276</td>\n",
              "      <td>6276</td>\n",
              "      <td>6276</td>\n",
              "      <td>6276</td>\n",
              "      <td>6276</td>\n",
              "      <td>6276</td>\n",
              "      <td>6276</td>\n",
              "      <td>6276</td>\n",
              "      <td>6276</td>\n",
              "      <td>6276</td>\n",
              "      <td>6276</td>\n",
              "      <td>6276</td>\n",
              "      <td>6276</td>\n",
              "      <td>6276</td>\n",
              "      <td>6276</td>\n",
              "      <td>6276</td>\n",
              "      <td>6276</td>\n",
              "      <td>6276</td>\n",
              "      <td>6276</td>\n",
              "    </tr>\n",
              "    <tr>\n",
              "      <th>Lyft</th>\n",
              "      <td>41151</td>\n",
              "      <td>41151</td>\n",
              "      <td>41151</td>\n",
              "      <td>41151</td>\n",
              "      <td>41151</td>\n",
              "      <td>41151</td>\n",
              "      <td>41151</td>\n",
              "      <td>41151</td>\n",
              "      <td>41151</td>\n",
              "      <td>41151</td>\n",
              "      <td>41151</td>\n",
              "      <td>41151</td>\n",
              "      <td>41151</td>\n",
              "      <td>41151</td>\n",
              "      <td>41151</td>\n",
              "      <td>41151</td>\n",
              "      <td>41151</td>\n",
              "      <td>41151</td>\n",
              "      <td>41151</td>\n",
              "      <td>41151</td>\n",
              "    </tr>\n",
              "    <tr>\n",
              "      <th>Uber</th>\n",
              "      <td>50466</td>\n",
              "      <td>50466</td>\n",
              "      <td>50466</td>\n",
              "      <td>50466</td>\n",
              "      <td>50466</td>\n",
              "      <td>50466</td>\n",
              "      <td>50466</td>\n",
              "      <td>50466</td>\n",
              "      <td>50466</td>\n",
              "      <td>50466</td>\n",
              "      <td>50466</td>\n",
              "      <td>50466</td>\n",
              "      <td>50466</td>\n",
              "      <td>50466</td>\n",
              "      <td>50466</td>\n",
              "      <td>50466</td>\n",
              "      <td>50466</td>\n",
              "      <td>50466</td>\n",
              "      <td>50466</td>\n",
              "      <td>50466</td>\n",
              "    </tr>\n",
              "  </tbody>\n",
              "</table>\n",
              "</div>"
            ],
            "text/plain": [
              "          distance  time_stamp  destination  ...  date_time    day   hour\n",
              "cab_type                                     ...                         \n",
              "0             6276        6276         6276  ...       6276   6276   6276\n",
              "Lyft         41151       41151        41151  ...      41151  41151  41151\n",
              "Uber         50466       50466        50466  ...      50466  50466  50466\n",
              "\n",
              "[3 rows x 20 columns]"
            ]
          },
          "metadata": {},
          "execution_count": 17
        }
      ]
    },
    {
      "cell_type": "code",
      "metadata": {
        "colab": {
          "base_uri": "https://localhost:8080/",
          "height": 360
        },
        "id": "Dxcv6JjKBREX",
        "outputId": "3709b721-7a92-4dca-d2fc-9f8d3a5d3fcb"
      },
      "source": [
        "data.groupby('cab_type').count().plot.bar()"
      ],
      "execution_count": 18,
      "outputs": [
        {
          "output_type": "execute_result",
          "data": {
            "text/plain": [
              "<matplotlib.axes._subplots.AxesSubplot at 0x7f4868cff290>"
            ]
          },
          "metadata": {},
          "execution_count": 18
        },
        {
          "output_type": "display_data",
          "data": {
            "image/png": "[encoded data removed]",
            "text/plain": [
              "<Figure size 432x288 with 1 Axes>"
            ]
          },
          "metadata": {
            "needs_background": "light"
          }
        }
      ]
    },
    {
      "cell_type": "code",
      "metadata": {
        "colab": {
          "base_uri": "https://localhost:8080/",
          "height": 580
        },
        "id": "LwH24jh5BUGc",
        "outputId": "77081b23-f9c5-47b6-b3f2-5c9b38e8acd0"
      },
      "source": [
        "data['price'].value_counts().plot(kind='bar',figsize=(100,50),color='blue')"
      ],
      "execution_count": 19,
      "outputs": [
        {
          "output_type": "execute_result",
          "data": {
            "text/plain": [
              "<matplotlib.axes._subplots.AxesSubplot at 0x7f48692ed910>"
            ]
          },
          "metadata": {},
          "execution_count": 19
        },
        {
          "output_type": "display_data",
          "data": {
            "image/png": "[encoded data removed]",
            "text/plain": [
              "<Figure size 7200x3600 with 1 Axes>"
            ]
          },
          "metadata": {
            "needs_background": "light"
          }
        }
      ]
    },
    {
      "cell_type": "code",
      "metadata": {
        "colab": {
          "base_uri": "https://localhost:8080/",
          "height": 342
        },
        "id": "KtQfIKCSCMVv",
        "outputId": "7600d2d9-fa41-47a7-c147-827780886631"
      },
      "source": [
        "data['hour'].value_counts().plot(kind='bar',figsize=(10,5),color='blue')"
      ],
      "execution_count": 20,
      "outputs": [
        {
          "output_type": "execute_result",
          "data": {
            "text/plain": [
              "<matplotlib.axes._subplots.AxesSubplot at 0x7f4868fa0050>"
            ]
          },
          "metadata": {},
          "execution_count": 20
        },
        {
          "output_type": "display_data",
          "data": {
            "image/png": "[encoded data removed]",
            "text/plain": [
              "<Figure size 720x360 with 1 Axes>"
            ]
          },
          "metadata": {
            "needs_background": "light"
          }
        }
      ]
    },
    {
      "cell_type": "code",
      "metadata": {
        "colab": {
          "base_uri": "https://localhost:8080/",
          "height": 265
        },
        "id": "fiBhqtKCCVmZ",
        "outputId": "209d7246-8a06-442e-9932-8bc2a476c009"
      },
      "source": [
        "import matplotlib.pyplot as plt\n",
        "x=data['hour']\n",
        "y=data['price']\n",
        "plt.plot(x,y)\n",
        "plt.show()"
      ],
      "execution_count": 21,
      "outputs": [
        {
          "output_type": "display_data",
          "data": {
            "image/png": "[encoded data removed]",
            "text/plain": [
              "<Figure size 432x288 with 1 Axes>"
            ]
          },
          "metadata": {
            "needs_background": "light"
          }
        }
      ]
    },
    {
      "cell_type": "code",
      "metadata": {
        "colab": {
          "base_uri": "https://localhost:8080/",
          "height": 265
        },
        "id": "WOHn0KqJCZX5",
        "outputId": "0d9252d0-bbed-47c0-bd04-b38358d71442"
      },
      "source": [
        "x=data['rain']\n",
        "y=data['price']\n",
        "plt.plot(x,y)\n",
        "plt.show()"
      ],
      "execution_count": 22,
      "outputs": [
        {
          "output_type": "display_data",
          "data": {
            "image/png": "[encoded data removed]",
            "text/plain": [
              "<Figure size 432x288 with 1 Axes>"
            ]
          },
          "metadata": {
            "needs_background": "light"
          }
        }
      ]
    },
    {
      "cell_type": "code",
      "metadata": {
        "colab": {
          "base_uri": "https://localhost:8080/"
        },
        "id": "RIGTm4moCfdR",
        "outputId": "f3d466d9-8fe3-493e-8292-87ab364509eb"
      },
      "source": [
        "data.columns"
      ],
      "execution_count": 23,
      "outputs": [
        {
          "output_type": "execute_result",
          "data": {
            "text/plain": [
              "Index(['distance', 'cab_type', 'time_stamp', 'destination', 'source', 'price',\n",
              "       'surge_multiplier', 'id', 'product_id', 'name', 'datetime', 'temp',\n",
              "       'location', 'clouds', 'pressure', 'rain', 'humidity', 'wind',\n",
              "       'date_time', 'day', 'hour'],\n",
              "      dtype='object')"
            ]
          },
          "metadata": {},
          "execution_count": 23
        }
      ]
    },
    {
      "cell_type": "code",
      "metadata": {
        "id": "j3hAxLFxCnjq"
      },
      "source": [
        "x1=data[['distance', 'temp','clouds', 'pressure', 'humidity','wind','rain','day','hour','surge_multiplier','clouds']]\n",
        "y1=data['price']"
      ],
      "execution_count": 24,
      "outputs": []
    },
    {
      "cell_type": "code",
      "metadata": {
        "id": "CYgguV8lCtOg"
      },
      "source": [
        "# Using Skicit-learn to split data into training and testing sets\n",
        "from sklearn.model_selection import train_test_split\n",
        "# Split the data into training and testing sets\n",
        "x_train, y_train, x_test, y_test = train_test_split(x1, y1, test_size = 0.25, random_state = 42)"
      ],
      "execution_count": 25,
      "outputs": []
    },
    {
      "cell_type": "code",
      "metadata": {
        "colab": {
          "base_uri": "https://localhost:8080/"
        },
        "id": "x1Odk01ZCzKb",
        "outputId": "98d95167-021e-4012-8ab7-a106bdce67dc"
      },
      "source": [
        "linear=LinearRegression()\n",
        "linear.fit(x_train,x_test)\n"
      ],
      "execution_count": 26,
      "outputs": [
        {
          "output_type": "execute_result",
          "data": {
            "text/plain": [
              "LinearRegression(copy_X=True, fit_intercept=True, n_jobs=None, normalize=False)"
            ]
          },
          "metadata": {},
          "execution_count": 26
        }
      ]
    },
    {
      "cell_type": "code",
      "metadata": {
        "id": "fcr0qQQ6C2eb"
      },
      "source": [
        "predictions=linear.predict(y_train)"
      ],
      "execution_count": 27,
      "outputs": []
    },
    {
      "cell_type": "code",
      "metadata": {
        "colab": {
          "base_uri": "https://localhost:8080/",
          "height": 417
        },
        "id": "DXV-KG3TC6BU",
        "outputId": "5bfca3c2-aba2-46b8-abd0-aef8bdd1fa84"
      },
      "source": [
        "df = pd.DataFrame({'Actual': y_test, 'Predicted': predictions})\n",
        "df"
      ],
      "execution_count": 28,
      "outputs": [
        {
          "output_type": "execute_result",
          "data": {
            "text/html": [
              "<div>\n",
              "<style scoped>\n",
              "    .dataframe tbody tr th:only-of-type {\n",
              "        vertical-align: middle;\n",
              "    }\n",
              "\n",
              "    .dataframe tbody tr th {\n",
              "        vertical-align: top;\n",
              "    }\n",
              "\n",
              "    .dataframe thead th {\n",
              "        text-align: right;\n",
              "    }\n",
              "</style>\n",
              "<table border=\"1\" class=\"dataframe\">\n",
              "  <thead>\n",
              "    <tr style=\"text-align: right;\">\n",
              "      <th></th>\n",
              "      <th>Actual</th>\n",
              "      <th>Predicted</th>\n",
              "    </tr>\n",
              "  </thead>\n",
              "  <tbody>\n",
              "    <tr>\n",
              "      <th>11894</th>\n",
              "      <td>11.5</td>\n",
              "      <td>13.482579</td>\n",
              "    </tr>\n",
              "    <tr>\n",
              "      <th>53674</th>\n",
              "      <td>0.0</td>\n",
              "      <td>10.669021</td>\n",
              "    </tr>\n",
              "    <tr>\n",
              "      <th>70574</th>\n",
              "      <td>9.5</td>\n",
              "      <td>10.720177</td>\n",
              "    </tr>\n",
              "    <tr>\n",
              "      <th>70084</th>\n",
              "      <td>13.5</td>\n",
              "      <td>11.871178</td>\n",
              "    </tr>\n",
              "    <tr>\n",
              "      <th>35753</th>\n",
              "      <td>19.5</td>\n",
              "      <td>22.571269</td>\n",
              "    </tr>\n",
              "    <tr>\n",
              "      <th>...</th>\n",
              "      <td>...</td>\n",
              "      <td>...</td>\n",
              "    </tr>\n",
              "    <tr>\n",
              "      <th>23642</th>\n",
              "      <td>0.0</td>\n",
              "      <td>13.124490</td>\n",
              "    </tr>\n",
              "    <tr>\n",
              "      <th>49808</th>\n",
              "      <td>18.5</td>\n",
              "      <td>12.306000</td>\n",
              "    </tr>\n",
              "    <tr>\n",
              "      <th>44880</th>\n",
              "      <td>9.0</td>\n",
              "      <td>15.989203</td>\n",
              "    </tr>\n",
              "    <tr>\n",
              "      <th>11155</th>\n",
              "      <td>0.0</td>\n",
              "      <td>11.692133</td>\n",
              "    </tr>\n",
              "    <tr>\n",
              "      <th>89797</th>\n",
              "      <td>23.5</td>\n",
              "      <td>17.523871</td>\n",
              "    </tr>\n",
              "  </tbody>\n",
              "</table>\n",
              "<p>24474 rows × 2 columns</p>\n",
              "</div>"
            ],
            "text/plain": [
              "       Actual  Predicted\n",
              "11894    11.5  13.482579\n",
              "53674     0.0  10.669021\n",
              "70574     9.5  10.720177\n",
              "70084    13.5  11.871178\n",
              "35753    19.5  22.571269\n",
              "...       ...        ...\n",
              "23642     0.0  13.124490\n",
              "49808    18.5  12.306000\n",
              "44880     9.0  15.989203\n",
              "11155     0.0  11.692133\n",
              "89797    23.5  17.523871\n",
              "\n",
              "[24474 rows x 2 columns]"
            ]
          },
          "metadata": {},
          "execution_count": 28
        }
      ]
    },
    {
      "cell_type": "code",
      "metadata": {
        "colab": {
          "base_uri": "https://localhost:8080/",
          "height": 464
        },
        "id": "eFX7B_ETC-Pm",
        "outputId": "b4df5c04-e63e-4dff-bd73-92679c85542d"
      },
      "source": [
        "df1 = df.head(25)\n",
        "df1.plot(kind='bar',figsize=(26,10))\n",
        "plt.grid(which='major', linestyle='-', linewidth='0.5', color='green')\n",
        "plt.grid(which='minor', linestyle=':', linewidth='0.5', color='black')\n",
        "plt.show()"
      ],
      "execution_count": 29,
      "outputs": [
        {
          "output_type": "display_data",
          "data": {
            "image/png": "[encoded data removed]",
            "text/plain": [
              "<Figure size 1872x720 with 1 Axes>"
            ]
          },
          "metadata": {
            "needs_background": "light"
          }
        }
      ]
    },
    {
      "cell_type": "code",
      "metadata": {
        "id": "wFOJtnm8DC5-"
      },
      "source": [
        "#task: find the error!"
      ],
      "execution_count": 30,
      "outputs": []
    }
  ]
}